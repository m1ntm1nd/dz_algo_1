{
 "cells": [
  {
   "cell_type": "code",
   "execution_count": 15,
   "metadata": {},
   "outputs": [
    {
     "name": "stdout",
     "output_type": "stream",
     "text": [
      "[0.02291733 0.09689407 0.16487443 0.22670501 0.28230754 0.33422622\n",
      " 0.38818151 0.44352585 0.4995788  0.55564213 0.61130011 0.66677809\n",
      " 0.72223127 0.77773952 0.83330482 0.88888168 0.9444499  1.00000679\n",
      " 1.05555809 1.11111057 1.1666652  1.22222209 1.27777815 1.33333397\n",
      " 1.38888907 1.44444454 1.49999952 1.55555534 1.61111104 1.66666675\n",
      " 1.72222209 1.77777779 1.83333325 1.88888907 1.94444478 2.\n",
      " 2.05555582 2.11111116 2.16666675 2.22222185 2.27777743 2.33333325\n",
      " 2.38888884 2.44444418 2.50000048 2.55555511 2.61111116 2.66666651\n",
      " 2.72222257 2.77777719 2.83333349 2.88888884 2.9444437  2.99999952\n",
      " 3.05555606 3.11111116 3.16666651 3.22222185 3.27777791 3.33333325\n",
      " 3.3888886  3.44444418 3.5        3.55555606 3.6111114  3.66666675\n",
      " 3.72222185 3.77777743 3.83333278 3.88888884 3.94444513 4.00000286\n",
      " 4.0555582  4.11110973 4.16665506 4.22220516 4.27777576 4.33337593\n",
      " 4.38897991 4.44449568 4.49986267 4.55515385 4.610672   4.66701794\n",
      " 4.72390461 4.78014517 4.83372164 4.88185787 4.93252897 4.99368668\n",
      " 5.07297421 5.17743635 5.21098423 5.17348337 5.06655979 4.8935523\n",
      " 5.57993412 6.27004385 6.95598602 7.6300478 ]\n"
     ]
    }
   ],
   "source": [
    "import numpy as np\n",
    "from numpy import linalg\n",
    "import matplotlib.pyplot as plt\n",
    "n = 100\n",
    "A = np.zeros([n, n], dtype=np.float32)\n",
    "\n",
    "for j in range(0, n):\n",
    "    if (j >= 4):\n",
    "        A[j][j - 4:j + 5] = 1\n",
    "    else:\n",
    "        A[j][0:j + 5] = 1\n",
    "for j in range(0, n):\n",
    "    A[j][j] = (10)\n",
    "\n",
    "B = np.zeros([n, 1], dtype=np.float32)\n",
    "for j in range(0, n):\n",
    "    B[j][0] = j + 1\n",
    "C = np.linalg.solve(A, B)\n",
    "#print(C)\n",
    "\n",
    "def pvr(matr,resh):\n",
    "    m = len(matr)\n",
    "    x = [.0 for i in range(m)]\n",
    "    pogr = 1.\n",
    "    om = 1.5\n",
    "    while not pogr < 1e-4:\n",
    "        x_new = np.copy(x)\n",
    "        for i in range(m):\n",
    "            s1 = sum(matr[i][j] * x_new[j] for j in range(i))\n",
    "            s2 = sum(matr[i][j] * x[j] for j in range(i + 1, m))\n",
    "            x_new[i] = om * ((resh[i] - s1 - s2) / matr[i][i]) + (1 - om) * x[i]\n",
    "            pogr = sum(abs(x_new[i] - x[i]) for i in range(m))\n",
    "        x = x_new\n",
    "    return x\n",
    "print(pvr(A,B))\n"
   ]
  },
  {
   "cell_type": "code",
   "execution_count": 9,
   "metadata": {},
   "outputs": [
    {
     "name": "stdout",
     "output_type": "stream",
     "text": [
      "[0.02292139 0.09689605 0.16487573 0.22670602 0.28230829 0.33422803\n",
      " 0.38818301 0.44352704 0.49957981 0.55564306 0.61130118 0.66677907\n",
      " 0.72223193 0.77774018 0.83330511 0.88888166 0.94445021 1.00000687\n",
      " 1.05555811 1.11111029 1.16666503 1.2222213  1.27777778 1.33333355\n",
      " 1.3888892  1.44444446 1.49999986 1.55555546 1.61111107 1.66666666\n",
      " 1.72222202 1.77777786 1.83333349 1.88888917 1.9444446  2.00000029\n",
      " 2.0555557  2.11111079 2.16666635 2.22222172 2.27777761 2.33333354\n",
      " 2.3888892  2.44444428 2.49999964 2.55555501 2.6111109  2.66666707\n",
      " 2.72222219 2.77777754 2.8333329  2.88888848 2.94444459 3.00000005\n",
      " 3.05555546 3.11111129 3.16666669 3.22222154 3.27777739 3.33333373\n",
      " 3.38888867 3.44444449 3.49999985 3.55555582 3.61111066 3.6666671\n",
      " 3.72222233 3.77777696 3.83333356 3.88888824 3.94444589 4.00000215\n",
      " 4.05555812 4.11110864 4.16665534 4.22220526 4.27777622 4.3333761\n",
      " 4.38897999 4.44449492 4.49986299 4.55515358 4.61067252 4.66701825\n",
      " 4.72390381 4.78014545 4.83372197 4.88185851 4.93252817 4.9936859\n",
      " 5.07297336 5.17743692 5.21098541 5.17348214 5.06656076 4.8935518\n",
      " 5.57993401 6.27004328 6.9559862  7.63004827]\n"
     ]
    }
   ],
   "source": [
    "def DivideRow(A, B, row, divider):\n",
    "    if divider != 0:\n",
    "        A[row,] /= divider\n",
    "        B[row, 0] /= divider\n",
    "        # A[row] = [a / divider for a in A[row]]\n",
    "    # print(\"\\n\",A)\n",
    "\n",
    "\n",
    "def SwapRows(A, B, row1, row2):\n",
    "    A[[row1, row2]] = A[[row2, row1]]\n",
    "    B[[row1, 0]] = B[[row2, 0]]\n",
    "    # print(\"\\n\",A)\n",
    "\n",
    "\n",
    "def CombineRows(A, B, row, destination_row, weight):\n",
    "    for i in range(n):\n",
    "        A[destination_row, i] += weight * A[row, i]\n",
    "    B[destination_row, 0] += weight * B[row, 0]\n",
    "    # print(\"\\n\",A)\n",
    "\n",
    "\n",
    "def matrix_to_triangle_view(A, B):\n",
    "    for i in range(n):\n",
    "        maximum = A[i, i]\n",
    "        maxstr = i\n",
    "        for j in range(i + 1, n):\n",
    "            if maximum < A[j, i]:\n",
    "                maxstr = j\n",
    "        if maxstr != i:\n",
    "            SwapRows(A, B, i, maxstr)\n",
    "        DivideRow(A, B, maxstr, A[maxstr][i])\n",
    "        for j in range(i + 1, n):\n",
    "            if A[j][i] != 0:\n",
    "                DivideRow(A, B, j, A[j][i])\n",
    "                CombineRows(A, B, maxstr, j, -1)\n",
    "\n",
    "def matrix_reversed_solving(A, B):\n",
    "    ANS = [B[n - 1, 0] / A[n - 1, n - 1]]\n",
    "    cnt = 0\n",
    "    for i in range(n - 2, -1, -1):\n",
    "        partial_sum = 0\n",
    "        t = 0\n",
    "        for j in range(n - 1, n - (len(ANS) + 1), -1):\n",
    "            partial_sum += A[i][j] * ANS[t]\n",
    "            t += 1\n",
    "        ANS.append((B[i, 0] - partial_sum) / A[i][j - 1])\n",
    "        cnt += 1\n",
    "    return np.flipud(np.array(ANS))\n",
    "\n",
    "\n",
    "def Gaussian_method(A, B):\n",
    "    matrix_to_triangle_view(A, B)\n",
    "    return matrix_reversed_solving(A, B)\n",
    "g = (Gaussian_method(A, B))\n",
    "print(g)"
   ]
  },
  {
   "cell_type": "code",
   "execution_count": 12,
   "metadata": {},
   "outputs": [
    {
     "name": "stdout",
     "output_type": "stream",
     "text": [
      "8.409619144146751e-06 8.409619144146753e-06\n",
      "3.893350538929871e-08 3.893350538929871e-08\n"
     ]
    }
   ],
   "source": [
    "def nevyazka(x):\n",
    "    temp = np.zeros((n, 1))\n",
    "    r = np.zeros((n, 1))\n",
    "    for i in range(len(A)):\n",
    "        temp[i] = 0\n",
    "        for j in range(len(A)):\n",
    "            temp[i] += x[j] * A[i][j]\n",
    "        r[i] = temp[i] - B[i]\n",
    "    return r\n",
    "pvr = nevyazka(x)\n",
    "gaus = nevyazka(g)\n",
    "\n",
    "def norm(x):\n",
    "    ss=0\n",
    "    for i in range(len(x)):\n",
    "        ss = ss + x[i]**2\n",
    "    return np.math.sqrt(ss)\n",
    "print(norm(pvr),linalg.norm(pvr))\n",
    "print(norm(gaus),linalg.norm(gaus))"
   ]
  },
  {
   "cell_type": "code",
   "execution_count": null,
   "metadata": {},
   "outputs": [],
   "source": []
  },
  {
   "cell_type": "code",
   "execution_count": null,
   "metadata": {},
   "outputs": [],
   "source": []
  }
 ],
 "metadata": {
  "kernelspec": {
   "display_name": "Python 3",
   "language": "python",
   "name": "python3"
  },
  "language_info": {
   "codemirror_mode": {
    "name": "ipython",
    "version": 3
   },
   "file_extension": ".py",
   "mimetype": "text/x-python",
   "name": "python",
   "nbconvert_exporter": "python",
   "pygments_lexer": "ipython3",
   "version": "3.8.5"
  }
 },
 "nbformat": 4,
 "nbformat_minor": 4
}
