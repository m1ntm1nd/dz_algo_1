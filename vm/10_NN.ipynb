{
 "cells": [
  {
   "cell_type": "code",
   "execution_count": 50,
   "id": "essential-resource",
   "metadata": {},
   "outputs": [
    {
     "name": "stdout",
     "output_type": "stream",
     "text": [
      "[1842.0, -10.9, -5.6, -4.8, 1.3, 10.7, 15.0, 19.7, 16.8, 10.6, 2.1, -1.3, -6.6, 3.9]\n",
      "[-10.9  -5.6  -4.8   1.3  10.7  15.   19.7  16.8  10.6   2.1  -1.3  -6.6]\n"
     ]
    },
    {
     "data": {
      "image/png": "[encoded data removed]",
      "text/plain": [
       "<Figure size 432x288 with 1 Axes>"
      ]
     },
     "metadata": {
      "needs_background": "light"
     },
     "output_type": "display_data"
    }
   ],
   "source": [
    "    import csv\n",
    "    import numpy as np\n",
    "    import matplotlib.pyplot as plt\n",
    "\n",
    "    def lagranz(x,y,t):\n",
    "        z=0\n",
    "        for j in range(len(y)):\n",
    "            p1=1; p2=1\n",
    "            for i in range(len(x)):\n",
    "                if i==j:\n",
    "                    p1=p1*1; p2=p2*1   \n",
    "                else: \n",
    "                    p1=p1*(t-x[i])\n",
    "                    p2=p2*(x[j]-x[i])\n",
    "            z=z+y[j]*p1/p2\n",
    "        return z\n",
    "\n",
    "    with open('10_NN.csv','r') as csv_file:\n",
    "        csv_reader = csv.reader(csv_file)\n",
    "        next(csv_reader)\n",
    "\n",
    "        data = {}\n",
    "        for line in csv_reader:\n",
    "            key = int(line[0])\n",
    "            #valuess = list(float(line[1].replace(',','.')),float(line[2].replace(',','.')),float(line[3].replace(',','.')))\n",
    "            data[key] = []\n",
    "            mean = 0\n",
    "            for cnt, val1 in enumerate(line):\n",
    "                val = float(val1.replace(',','.'))\n",
    "                if val != 999.9:\n",
    "                    mean = (mean+val)/(cnt+1) \n",
    "                    data[key].append(round(val,1))\n",
    "                else:\n",
    "                    data[key].append(round(mean,1))\n",
    "\n",
    "\n",
    "\n",
    "    print(data[1842])\n",
    "\n",
    "    x=np.array([1,2,3,4,5,6,7,8,9,10,11,12], dtype=float)\n",
    "    y=np.array(data[1842][1:-1], dtype=float)\n",
    "    plt.scatter(x,y,s=20, c='blue', marker=\"o\")\n",
    "    print(y)\n",
    "    xnew=np.linspace(np.min(x),np.max(x),100)\n",
    "    ynew=[lagranz(x,y,i) for i in xnew]\n",
    "\n",
    "    plt.scatter(xnew,ynew,s=7, c='red', marker=\"o\", alpha = 0.5)\n",
    "    plt.grid(True)\n",
    "    plt.show()"
   ]
  },
  {
   "cell_type": "code",
   "execution_count": 51,
   "id": "familiar-dance",
   "metadata": {},
   "outputs": [],
   "source": [
    "z5 = []\n",
    "for x in data:\n",
    "    d = data[x][6]\n",
    "    if d < 50:\n",
    "        z5.append(d)"
   ]
  },
  {
   "cell_type": "code",
   "execution_count": 22,
   "id": "western-lewis",
   "metadata": {},
   "outputs": [
    {
     "data": {
      "image/png": "[encoded data removed]",
      "text/plain": [
       "<Figure size 432x288 with 1 Axes>"
      ]
     },
     "metadata": {
      "needs_background": "light"
     },
     "output_type": "display_data"
    }
   ],
   "source": [
    "x = np.arange(0,len(z5),1)\n",
    "y = np.array(z5,dtype = float)\n",
    "plt.scatter(x,y,s=7, c='red', marker=\"o\", alpha = 0.5)\n",
    "plt.grid(True)\n",
    "plt.show()"
   ]
  },
  {
   "cell_type": "code",
   "execution_count": 4,
   "id": "stuck-government",
   "metadata": {},
   "outputs": [
    {
     "name": "stdout",
     "output_type": "stream",
     "text": [
      "[-10.9, -5.5, -9.6, -8.7, -11.3, -13.4]\n",
      "[-5.4, 4.1, -0.9000000000000004, 2.6000000000000014, 2.0999999999999996]\n",
      "[-9.5, 5.0, -3.5000000000000018, 0.5000000000000018]\n",
      "[-14.5, 8.500000000000002, -4.0000000000000036]\n",
      "[-23.0, 12.500000000000005]\n",
      "[-35.50000000000001]\n"
     ]
    }
   ],
   "source": [
    "def nuton(y,l,x):\n",
    "    p = y[0]\n",
    "    mnoj = 1\n",
    "    for i in range(6):\n",
    "        mnoj *= x-i\n",
    "        p += l[i]*mnoj\n",
    "    return p\n",
    "\n",
    "def rr1(l):\n",
    "    ans = []\n",
    "    for i,x in enumerate(l[:-1]):\n",
    "        ans.append(l[i]-l[i+1])\n",
    "    return ans\n",
    "\n",
    "l = []\n",
    "ans = []\n",
    "\n",
    "\n",
    "for x in range(6):\n",
    "    l.append(data[1842+x][1])\n",
    "for x in range(6):\n",
    "    ans.append(l)\n",
    "    l = rr1(l)\n",
    "for x in ans:\n",
    "    print(x)    "
   ]
  },
  {
   "cell_type": "code",
   "execution_count": 15,
   "id": "informative-flush",
   "metadata": {},
   "outputs": [],
   "source": [
    "x1=np.array([1,2,3,4,5,6], dtype=float)\n",
    "y1=np.array(ans[0], dtype=float)\n",
    "xn=np.arange(np.min(x1),np.max(x1),0.1)\n"
   ]
  },
  {
   "cell_type": "code",
   "execution_count": 16,
   "id": "monthly-backing",
   "metadata": {},
   "outputs": [
    {
     "data": {
      "text/plain": [
       "array([-10.9       ,  -8.47186787,  -6.684672  ,  -5.44094363,\n",
       "        -4.651904  ,  -4.23710938,  -4.124096  ,  -4.24802513,\n",
       "        -4.551328  ,  -4.98335088,  -5.5       ,  -6.06338663,\n",
       "        -6.641472  ,  -7.20771238,  -7.740704  ,  -8.22382813,\n",
       "        -8.644896  ,  -8.99579388,  -9.272128  ,  -9.47286963,\n",
       "        -9.6       ,  -9.65815537,  -9.654272  ,  -9.59723112,\n",
       "        -9.497504  ,  -9.36679687,  -9.217696  ,  -9.06331262,\n",
       "        -8.916928  ,  -8.79163837,  -8.7       ,  -8.65367412,\n",
       "        -8.663072  ,  -8.73699988,  -8.882304  ,  -9.10351563,\n",
       "        -9.402496  ,  -9.77808138, -10.225728  , -10.73715713,\n",
       "       -11.3       , -11.89744288, -12.507872  , -13.10451863,\n",
       "       -13.655104  , -14.12148438, -14.459296  , -14.61760012,\n",
       "       -14.538528  , -14.15692587])"
      ]
     },
     "execution_count": 16,
     "metadata": {},
     "output_type": "execute_result"
    }
   ],
   "source": [
    "import numpy as np\n",
    "def _poly_newton_coefficient(x, y):\n",
    "    \"\"\"\n",
    "    x: list or np array contanining x data points\n",
    "    y: list or np array contanining y data points\n",
    "    \"\"\"\n",
    "\n",
    "    m = len(x)\n",
    "\n",
    "    x = np.copy(x)\n",
    "    a = np.copy(y)\n",
    "    for k in range(1, m):\n",
    "        a[k:m] = (a[k:m] - a[k - 1])/(x[k:m] - x[k - 1])\n",
    "\n",
    "    return a\n",
    "\n",
    "coef = _poly_newton_coefficient([1,2,3,4,5,6],[-10.9, -5.5, -9.6, -8.7, -11.3, -13.4])\n",
    "\n",
    "def newton_polynomial(x_data, y_data, x):\n",
    "    \"\"\"\n",
    "    x_data: data points at x\n",
    "    y_data: data points at y\n",
    "    x: evaluation point(s)\n",
    "    \"\"\"\n",
    "    a = _poly_newton_coefficient(x_data, y_data)\n",
    "    n = len(x_data) - 1  # Degree of polynomial\n",
    "    p = a[n]\n",
    "\n",
    "    for k in range(1, n + 1):\n",
    "        p = a[n - k] + (x - x_data[n - k])*p\n",
    "\n",
    "    return p"
   ]
  },
  {
   "cell_type": "code",
   "execution_count": 17,
   "id": "cloudy-victoria",
   "metadata": {},
   "outputs": [
    {
     "name": "stdout",
     "output_type": "stream",
     "text": [
      "[1. 2. 3. 4. 5. 6.] [-10.9  -5.5  -9.6  -8.7 -11.3 -13.4]\n",
      "[-10.9          5.4         -4.75         2.41666667  -0.95833333\n",
      "   0.29583333]\n",
      "[-10.9, -8.471867875, -6.684671999999998, -5.440943625, -4.651903999999999, -4.237109375, -4.1240960000000015, -4.248025125000002, -4.551328000000003, -4.983350875000004, -5.500000000000005, -6.063386625000006, -6.641472000000006, -7.207712375000006, -7.740704000000006, -8.223828125000006, -8.644896000000005, -8.995793875000004, -9.272128000000004, -9.472869625000003, -9.6, -9.658155374999998, -9.654272, -9.597231124999999, -9.497504, -9.366796874999997, -9.217695999999997, -9.063312624999998, -8.916927999999997, -8.791638374999998, -8.700000000000001, -8.653674124999998, -8.663071999999998, -8.736999875000004, -8.882304000000005, -9.10351562500001, -9.402496000000005, -9.77808137500001, -10.22572800000001, -10.737157125000016, -11.300000000000017, -11.897442875000015, -12.507872000000015, -13.104518625000019, -13.655104000000009, -14.12148437500001, -14.459296, -14.617600125, -14.538527999999987, -14.156925874999978]\n"
     ]
    },
    {
     "data": {
      "image/png": "[encoded data removed]",
      "text/plain": [
       "<Figure size 432x288 with 1 Axes>"
      ]
     },
     "metadata": {
      "needs_background": "light"
     },
     "output_type": "display_data"
    }
   ],
   "source": [
    "print(x1,y1)\n",
    "\n",
    "\n",
    "print(coef)\n",
    "plt.scatter(x1,y1,s=20, c='blue', marker=\"o\")\n",
    "\n",
    "\n",
    "yn=[newton_polynomial(x1,y1,i) for i in xn]\n",
    "print(yn)\n",
    "plt.scatter(xn,yn,s=7, c='red', marker=\"o\", alpha = 0.5)\n",
    "plt.grid(True)\n",
    "plt.show()"
   ]
  },
  {
   "cell_type": "code",
   "execution_count": null,
   "id": "variable-breathing",
   "metadata": {},
   "outputs": [],
   "source": [
    "import numpy as np\n",
    "import matplotlib.pyplot as plt\n",
    "\n",
    "\n",
    "def _poly_newton_coefficient(x, y):\n",
    "    \"\"\"\n",
    "    x: list or np array contanining x data points\n",
    "    y: list or np array contanining y data points\n",
    "    \"\"\"\n",
    "\n",
    "    m = len(x)\n",
    "\n",
    "    x = np.copy(x)\n",
    "\n",
    "    a = np.copy(y)\n",
    "    print(a)\n",
    "    for k in range(1, m):\n",
    "        a[m:k:-1] = (a[m:k:-1] - a[k - 1])/(x[m:k:-1] - x[k - 1])\n",
    "        #print((x[k:m] - x[k - 1]))\n",
    "        #print(a)\n",
    "    return a\n",
    "\n",
    "#coef = _poly_newton_coefficient([1,2,3,4,5,6],[-10.9, -5.5, -9.6, -8.7, -11.3, -13.4])\n",
    "\n",
    "def newton_polynomial(x_data, y_data, x):\n",
    "    \"\"\"\n",
    "    x_data: data points at x\n",
    "    y_data: data points at y\n",
    "    x: evaluation point(s)\n",
    "    \"\"\"\n",
    "    a = _poly_newton_coefficient(x_data, y_data)\n",
    "    n = len(x_data) - 1  # Degree of polynomial\n",
    "    #p = a[0]\n",
    "    mnoj = (x-x_data[0])\n",
    "    mnojM1 = [(x-x_data[n])]\n",
    "    for k in range(1,n+1):\n",
    "        #p += a[k]*mnoj\n",
    "        mnoj *= x - x_data[k]\n",
    "        mnojM1.append(mnoj)\n",
    "\n",
    "    p = a[n]\n",
    "\n",
    "    for k in range(1,n+1):\n",
    "        p += a[n-k+1]*mnojM1[n-k+1]\n",
    "\n",
    "        \n",
    "\n",
    "    return p\n",
    "\n",
    "\n",
    "\n",
    "\n",
    "\n",
    "ans = [-10.9, -5.5, -9.6, -8.7, -11.3, -13.4]\n",
    "x1=np.array([1,2,3,4,5,6], dtype=float)\n",
    "y1=np.array(ans, dtype=float)\n",
    "xn=np.arange(np.min(x1),np.max(x1+0.1),0.1)\n",
    "plt.scatter(x1,y1,s=20, c='blue', marker=\"o\")\n",
    "yn=[newton_polynomial(x1,y1,i) for i in xn]\n",
    "#print(yn)\n",
    "plt.scatter(xn,yn,s=7, c='red', marker=\"o\", alpha = 0.5)\n",
    "plt.grid(True)\n",
    "plt.show()"
   ]
  },
  {
   "cell_type": "code",
   "execution_count": 48,
   "id": "assisted-trust",
   "metadata": {},
   "outputs": [
    {
     "data": {
      "image/png": "[encoded data removed]",
      "text/plain": [
       "<Figure size 432x288 with 1 Axes>"
      ]
     },
     "metadata": {
      "needs_background": "light"
     },
     "output_type": "display_data"
    }
   ],
   "source": [
    "import numpy as np\n",
    "import matplotlib.pyplot as plt\n",
    "xi = np.array([1,2,3],dtype = np.float)\n",
    "yi = np.array([10,20,30],dtype = np.float)\n",
    "np.sum(np.power(xi,2,dtype=np.float))\n",
    "A = np.zeros((3,3))\n",
    "for x in range(3):\n",
    "    for y in range(3):\n",
    "        A[x][y] = np.sum(np.power(xi,x+y,dtype=np.float))  #составляем матрицу кэф, возводим в степень xi и суммируем до n\n",
    "v = np.zeros((3,1))\n",
    "for i in range(3):\n",
    "    tmp = np.zeros(len(yi))\n",
    "    for j in range(3):\n",
    "        tmp[j] = yi[j] * xi[j] ** i                             #считаем произведение всех yi на xi \n",
    "    v[i][0] = np.sum(tmp)     #суммируем yi по n\n",
    "    \n",
    "ans = np.linalg.solve(A,v)\n",
    "\n",
    "def polynom5(ans,x):\n",
    "    t = 0\n",
    "    for i in range(len(ans)):\n",
    "        t += ans[i][0] * (x**i)\n",
    "    return t\n",
    "\n",
    "xn=np.arange(np.min(xi),np.max(xi+0.1),0.1)\n",
    "yn=[polynom5(ans,i) for i in xn]\n",
    "plt.scatter(xi,yi,s=20, c='red', marker=\"o\")\n",
    "plt.plot(xn,yn)\n",
    "plt.grid(True)\n",
    "plt.show()\n"
   ]
  },
  {
   "cell_type": "code",
   "execution_count": 49,
   "id": "cardiac-interest",
   "metadata": {},
   "outputs": [],
   "source": [
    "def polynom5(ans,x):\n",
    "    t = 0\n",
    "    for i in range(len(ans)):\n",
    "        t += ans[i][0] * (x**i)\n",
    "    return t\n",
    "\n",
    "def find_coefficents_for_least_square_method(x_values,y_values):\n",
    "    xi = np.array(x_values,dtype = np.float)\n",
    "    yi = np.array(y_values,dtype = np.float)\n",
    "    matrix_len = len(x_values)\n",
    "    A = np.zeros((matrix_len,matrix_len))\n",
    "    for x in range(matrix_len):\n",
    "        for y in range(matrix_len):\n",
    "            A[x][y] = np.sum(np.power(xi,x+y,dtype=np.float))  #составляем матрицу кэф, возводим в степень xi и суммируем до n\n",
    "    v = np.zeros((matrix_len,1))\n",
    "    for i in range(matrix_len):\n",
    "        tmp = np.zeros(matrix_len)\n",
    "        for j in range(3):\n",
    "            tmp[j] = yi[j] * xi[j] ** i                             #считаем произведение всех yi на xi \n",
    "        v[i][0] = np.sum(tmp)     #суммируем yi по n\n",
    "    \n",
    "    return np.linalg.solve(A,v)\n"
   ]
  },
  {
   "cell_type": "code",
   "execution_count": 52,
   "id": "earned-worthy",
   "metadata": {},
   "outputs": [
    {
     "data": {
      "text/plain": [
       "([26, 53, 80, 107, 134], [15.8, 15.5, 19.4, 14.1, 14.5])"
      ]
     },
     "execution_count": 52,
     "metadata": {},
     "output_type": "execute_result"
    }
   ],
   "source": [
    "len1 = len(z5)\n",
    "\n",
    "approximating_x_axis = []\n",
    "approximating_y_axis = []\n",
    "for i in range(1,6):\n",
    "    num = len1 // 6 * i - 1\n",
    "    approximating_x_axis.append(num)\n",
    "    approximating_y_axis.append(z5[num])"
   ]
  },
  {
   "cell_type": "code",
   "execution_count": 57,
   "id": "appropriate-tiffany",
   "metadata": {},
   "outputs": [],
   "source": [
    "x = np.arange(0,len(z5),1)\n",
    "y = np.array(z5,dtype = float)\n",
    "ans = find_coefficents_for_least_square_method(approximating_x_axis,approximating_y_axis)\n",
    "xi = np.array(approximating_x_axis,dtype = np.float)\n",
    "yi = np.array(approximating_y_axis,dtype = np.float)\n",
    "xn=np.arange(np.min(xi),np.max(xi+0.1),0.1)\n",
    "yn=[polynom5(ans,i) for i in xn]"
   ]
  },
  {
   "cell_type": "code",
   "execution_count": 58,
   "id": "touched-recording",
   "metadata": {},
   "outputs": [
    {
     "data": {
      "image/png": "[encoded data removed]",
      "text/plain": [
       "<Figure size 432x288 with 1 Axes>"
      ]
     },
     "metadata": {
      "needs_background": "light"
     },
     "output_type": "display_data"
    }
   ],
   "source": [
    "plt.scatter(x,y,s=7, c='red', marker=\"o\", alpha = 0.5)\n",
    "plt.plot(xn,yn)\n",
    "plt.grid(True)\n",
    "plt.show()"
   ]
  }
 ],
 "metadata": {
  "kernelspec": {
   "display_name": "Python 3",
   "language": "python",
   "name": "python3"
  },
  "language_info": {
   "codemirror_mode": {
    "name": "ipython",
    "version": 3
   },
   "file_extension": ".py",
   "mimetype": "text/x-python",
   "name": "python",
   "nbconvert_exporter": "python",
   "pygments_lexer": "ipython3",
   "version": "3.8.5"
  }
 },
 "nbformat": 4,
 "nbformat_minor": 5
}
