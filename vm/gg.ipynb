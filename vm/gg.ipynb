{
 "cells": [
  {
   "cell_type": "code",
   "execution_count": 3,
   "metadata": {},
   "outputs": [
    {
     "name": "stdout",
     "output_type": "stream",
     "text": [
      "0.32179900166027176 6\n"
     ]
    }
   ],
   "source": [
    "import numpy as np\n",
    "from numpy import sin\n",
    "\n",
    "def func(x):\n",
    "    return sin(x)/(1+x**2)\n",
    "x = np.linspace(0, 1,num = 2)\n",
    "\n",
    "e=0.0001\n",
    "\n",
    "def integral(x):\n",
    "    s = 0\n",
    "    for i in range(len(x)-1):\n",
    "        xi = (x[i+1]+x[i])/2\n",
    "        s = s + func(xi)*(x[i+1]-x[i])\n",
    "    return s\n",
    "\n",
    "def f38(x):\n",
    "    s = 0\n",
    "    for i in range(len(x)-1):\n",
    "        xi = (x[i+1]-x[i])\n",
    "        s = s + (xi*(func(x[i]) + 3*func((2*x[i]+x[i+1])/3) + 3*func((x[i]+2*x[i+1])/3) + func(x[i+1]))/8)\n",
    "    return s\n",
    "\n",
    "xt=np.linspace(0,1,num =3)\n",
    "i=int(4)\n",
    "\n",
    "while((abs(integrals(xt)-integrals(x))/integrals(xt))>e):\n",
    "    x = xt\n",
    "    xt = np.linspace(0.0,1.0,num = i,dtype=float)\n",
    "    i+=1\n",
    "    \n",
    "print(integrals(xt),i)\n"
   ]
  },
  {
   "cell_type": "code",
   "execution_count": null,
   "metadata": {},
   "outputs": [],
   "source": []
  }
 ],
 "metadata": {
  "kernelspec": {
   "display_name": "Python 3",
   "language": "python",
   "name": "python3"
  },
  "language_info": {
   "codemirror_mode": {
    "name": "ipython",
    "version": 3
   },
   "file_extension": ".py",
   "mimetype": "text/x-python",
   "name": "python",
   "nbconvert_exporter": "python",
   "pygments_lexer": "ipython3",
   "version": "3.8.5"
  }
 },
 "nbformat": 4,
 "nbformat_minor": 4
}
