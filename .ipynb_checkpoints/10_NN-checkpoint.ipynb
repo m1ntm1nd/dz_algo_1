{
 "cells": [
  {
   "cell_type": "code",
   "execution_count": 3,
   "id": "alpine-bowling",
   "metadata": {},
   "outputs": [
    {
     "name": "stdout",
     "output_type": "stream",
     "text": [
      "[1842.0, -10.9, -5.6, -4.8, 1.3, 10.7, 15.0, 19.7, 16.8, 10.6, 2.1, -1.3, -6.6, 3.9]\n",
      "[-10.9  -5.6  -4.8   1.3  10.7  15.   19.7  16.8  10.6   2.1  -1.3  -6.6]\n"
     ]
    },
    {
     "data": {
      "image/png": "[encoded data removed]",
      "text/plain": [
       "<Figure size 432x288 with 1 Axes>"
      ]
     },
     "metadata": {
      "needs_background": "light"
     },
     "output_type": "display_data"
    }
   ],
   "source": [
    "    import csv\n",
    "    import numpy as np\n",
    "    import matplotlib.pyplot as plt\n",
    "\n",
    "    def lagranz(x,y,t):\n",
    "        z=0\n",
    "        for j in range(len(y)):\n",
    "            p1=1; p2=1\n",
    "            for i in range(len(x)):\n",
    "                if i==j:\n",
    "                    p1=p1*1; p2=p2*1   \n",
    "                else: \n",
    "                    p1=p1*(t-x[i])\n",
    "                    p2=p2*(x[j]-x[i])\n",
    "            z=z+y[j]*p1/p2\n",
    "        return z\n",
    "\n",
    "    with open('10_NN.csv','r') as csv_file:\n",
    "        csv_reader = csv.reader(csv_file)\n",
    "        next(csv_reader)\n",
    "\n",
    "        data = {}\n",
    "        for line in csv_reader:\n",
    "            key = int(line[0])\n",
    "            #valuess = list(float(line[1].replace(',','.')),float(line[2].replace(',','.')),float(line[3].replace(',','.')))\n",
    "            data[key] = []\n",
    "            mean = 0\n",
    "            for cnt, val1 in enumerate(line):\n",
    "                val = float(val1.replace(',','.'))\n",
    "                if val != 999.9:\n",
    "                    mean = (mean+val)/(cnt+1) \n",
    "                    data[key].append(val)\n",
    "                else:\n",
    "                    data[key].append(mean)\n",
    "\n",
    "\n",
    "\n",
    "    print(data[1842])\n",
    "\n",
    "    x=np.array([1,2,3,4,5,6,7,8,9,10,11,12], dtype=float)\n",
    "    y=np.array(data[1842][1:-1], dtype=float)\n",
    "    plt.scatter(x,y,s=20, c='blue', marker=\"o\")\n",
    "    print(y)\n",
    "    xnew=np.linspace(np.min(x),np.max(x),100)\n",
    "    ynew=[lagranz(x,y,i) for i in xnew]\n",
    "\n",
    "    plt.scatter(xnew,ynew,s=7, c='red', marker=\"o\", alpha = 0.5)\n",
    "    plt.grid(True)\n",
    "    plt.show()"
   ]
  },
  {
   "cell_type": "code",
   "execution_count": 45,
   "id": "explicit-pottery",
   "metadata": {},
   "outputs": [
    {
     "name": "stdout",
     "output_type": "stream",
     "text": [
      "[1842.0, -10.9, -5.6, -4.8, 1.3, 10.7, 15.0, 19.7, 16.8, 10.6, 2.1, -1.3, -6.6, 3.9]\n",
      "[1843.0, -5.5, -1.5, -2.8, 2.1, 9.5, 18.8, 18.5, 16.7, 12.3, 7.5, -2.4, -5.7, 5.6]\n",
      "[1844.0, -9.6, -8.8, -5.1, 2.6, 15.1, 16.1, 20.5, 18.0, 12.7, 3.3, -7.6, -12.2, 3.8]\n",
      "[1845.0, -8.7, -14.7, -9.7, -1.1, 8.3, 12.8, 19.2, 17.7, 12.8, 2.9, -2.2, -10.0, 2.3]\n",
      "[1846.0, -11.3, -12.4, -5.4, 1.8, 15.172500000000003, 16.1, 20.7, 16.3, 10.4, 4.4, -5.3, -11.6, -0.922985975540663]\n",
      "[1847.0, -13.4, -9.4, -9.7, 0.6, 10.7, 18.9, 19.0, 21.0, 18.2, 5.4, -1.9, -12.1, 3.9]\n",
      "[1848.0, -20.6, -7.2, -3.6, 8.6, 11.5, 18.3, 21.1, 17.9, 14.7, 4.3, -2.9, -14.0, 4.0]\n",
      "[1849.0, -16.7, -7.5, -3.1, 2.7, 9.9, 16.4, 22.4, 17.4, 10.4, 4.0, -2.9, -11.2, 3.5]\n",
      "[1850.0, -18.1, -10.6, -5.6, 0.1, 11.4, 18.0, 19.2, 20.7, 10.3, 0.2, -1.7, -6.8, 3.1]\n",
      "[1851.0, -11.1, -14.4, -8.9, 2.6, 11.8, 15.8, 20.0, 17.7, 17.5, 4.8, 2.0, -5.9, 4.3]\n",
      "[1852.0, -12.4, -10.6, -4.5, 0.0, 9.6, 17.1, 14.9, 17.5, 11.3, 1.0, -7.6, -7.8, 2.4]\n",
      "[1853.0, -9.8, -8.6, -6.8, 2.9, 10.9, 14.4, 21.4, 18.3, 8.6, 5.6, -3.7, -10.2, 3.6]\n"
     ]
    }
   ],
   "source": [
    "for x in range(12):\n",
    "    print(data[1842+x])"
   ]
  },
  {
   "cell_type": "code",
   "execution_count": 7,
   "id": "terminal-scroll",
   "metadata": {},
   "outputs": [],
   "source": [
    "def nuton(y,l,x):\n",
    "    p = y[0]\n",
    "    mnoj = 1\n",
    "    for i in range(1,6):\n",
    "        mnoj *= x-i\n",
    "        p += l[i]*mnoj\n",
    "    return p\n",
    "\n",
    "def rr1(l):\n",
    "    ans = []\n",
    "    for i,x in enumerate(l[:-1]):\n",
    "        ans.append(l[i]-l[i+1])\n",
    "    return ans\n",
    "\n",
    "    "
   ]
  },
  {
   "cell_type": "code",
   "execution_count": 8,
   "id": "swedish-paragraph",
   "metadata": {},
   "outputs": [
    {
     "name": "stdout",
     "output_type": "stream",
     "text": [
      "[-10.9, -5.5, -9.6, -8.7, -11.3, -13.4]\n",
      "[-5.4, 4.1, -0.9000000000000004, 2.6000000000000014, 2.0999999999999996]\n",
      "[-9.5, 5.0, -3.5000000000000018, 0.5000000000000018]\n",
      "[-14.5, 8.500000000000002, -4.0000000000000036]\n",
      "[-23.0, 12.500000000000005]\n",
      "[-35.50000000000001]\n"
     ]
    }
   ],
   "source": [
    "l = []\n",
    "ans = []\n",
    "\n",
    "import numpy as np\n",
    "for x in range(6):\n",
    "    l.append(data[1842+x][1])\n",
    "for x in range(6):\n",
    "    ans.append(l)\n",
    "    l = rr1(l)\n",
    "for x in ans:\n",
    "    print(x)"
   ]
  },
  {
   "cell_type": "code",
   "execution_count": 10,
   "id": "universal-pillow",
   "metadata": {},
   "outputs": [
    {
     "name": "stdout",
     "output_type": "stream",
     "text": [
      "[1. 2. 3. 4. 5. 6.] [-10.9  -5.5  -9.6  -8.7 -11.3 -13.4]\n",
      "[-10.9, -5.4, -9.5, -14.5, -23.0, -35.50000000000001]\n",
      "[-10.9, -70.31615500000007, -104.8721600000001, -120.14006500000005, -120.98032, -111.58437499999997, -95.51727999999993, -75.76028499999988, -54.75343999999987, -34.43819499999985, -16.299999999999848, -1.4109049999998682, 9.5278400000001, 16.143185000000067, 18.34768000000001, 16.296874999999957, 10.346719999999898, 1.0109649999998496, -11.08144000000021, -25.22894500000025, -40.70000000000028, -56.7756550000003, -72.79216000000031, -88.1835650000003, -102.52432000000032, -115.57187500000029, -127.30928000000029, -137.98778500000026, -148.16944000000024, -158.7696950000003, -171.10000000000036, -186.91040500000057, -208.4321600000007, -238.42031500000087, -280.1963200000015, -337.69062500000234, -415.4852800000027, -518.8565350000033, -653.8174400000051, -827.1604450000077, -1046.5000000000086, -1320.3151550000096, -1657.9921600000139, -2069.8670650000195, -2567.2683200000215, -3162.5593750000235, -3869.1812800000316, -4701.695285000042, -5675.825440000046, -6808.501195000048]\n"
     ]
    },
    {
     "data": {
      "image/png": "[encoded data removed]",
      "text/plain": [
       "<Figure size 432x288 with 1 Axes>"
      ]
     },
     "metadata": {
      "needs_background": "light"
     },
     "output_type": "display_data"
    }
   ],
   "source": [
    "x1=np.array([0,1,2,3,4,5], dtype=float)\n",
    "y1=np.array(ans[0], dtype=float)\n",
    "print(x1,y1)\n",
    "t = []\n",
    "for x in ans:\n",
    "    t.append(x[0])\n",
    "print(t)\n",
    "plt.scatter(x1,y1,s=20, c='blue', marker=\"o\")\n",
    "\n",
    "\n",
    "xn=np.arange(np.min(x1),np.max(x1),0.1)\n",
    "yn=[nuton(y1,t,i) for i in xn]\n",
    "print(yn)\n",
    "plt.scatter(xn,yn,s=7, c='red', marker=\"o\", alpha = 0.5)\n",
    "plt.grid(True)\n",
    "plt.show()"
   ]
  },
  {
   "cell_type": "code",
   "execution_count": null,
   "id": "ecological-turner",
   "metadata": {},
   "outputs": [],
   "source": []
  }
 ],
 "metadata": {
  "kernelspec": {
   "display_name": "Python 3",
   "language": "python",
   "name": "python3"
  },
  "language_info": {
   "codemirror_mode": {
    "name": "ipython",
    "version": 3
   },
   "file_extension": ".py",
   "mimetype": "text/x-python",
   "name": "python",
   "nbconvert_exporter": "python",
   "pygments_lexer": "ipython3",
   "version": "3.8.5"
  }
 },
 "nbformat": 4,
 "nbformat_minor": 5
}
