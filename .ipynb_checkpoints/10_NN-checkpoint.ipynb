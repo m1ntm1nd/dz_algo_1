{
 "cells": [
  {
   "cell_type": "code",
   "execution_count": 6,
   "id": "white-instrumentation",
   "metadata": {},
   "outputs": [
    {
     "name": "stdout",
     "output_type": "stream",
     "text": [
      "[1842.0, -10.9, -5.6, -4.8, 1.3, 10.7, 15.0, 19.7, 16.8, 10.6, 2.1, -1.3, -6.6, 3.9]\n",
      "[-10.9  -5.6  -4.8   1.3  10.7  15.   19.7  16.8  10.6   2.1  -1.3  -6.6]\n"
     ]
    },
    {
     "data": {
      "image/png": "[encoded data removed]",
      "text/plain": [
       "<Figure size 432x288 with 1 Axes>"
      ]
     },
     "metadata": {
      "needs_background": "light"
     },
     "output_type": "display_data"
    }
   ],
   "source": [
    "import csv\n",
    "import numpy as np\n",
    "import matplotlib.pyplot as plt\n",
    "\n",
    "def lagranz(x,y,t):\n",
    "    z=0\n",
    "    for j in range(len(y)):\n",
    "        p1=1; p2=1\n",
    "        for i in range(len(x)):\n",
    "            if i==j:\n",
    "                p1=p1*1; p2=p2*1   \n",
    "            else: \n",
    "                p1=p1*(t-x[i])\n",
    "                p2=p2*(x[j]-x[i])\n",
    "        z=z+y[j]*p1/p2\n",
    "    return z\n",
    "\n",
    "with open('10_NN.csv','r') as csv_file:\n",
    "    csv_reader = csv.reader(csv_file)\n",
    "    next(csv_reader)\n",
    "\n",
    "    data = {}\n",
    "    for line in csv_reader:\n",
    "        key = int(line[0])\n",
    "        #valuess = list(float(line[1].replace(',','.')),float(line[2].replace(',','.')),float(line[3].replace(',','.')))\n",
    "        data[key] = []\n",
    "        mean = 0\n",
    "        for cnt, val1 in enumerate(line):\n",
    "            val = float(val1.replace(',','.'))\n",
    "            if val != 999.9:\n",
    "                mean = (mean+val)/(cnt+1) \n",
    "                data[key].append(val)\n",
    "            else:\n",
    "                data[key].append(mean)\n",
    "\n",
    "\n",
    "\n",
    "\n",
    "print(data[1842])\n",
    "\n",
    "x=np.array([1,2,3,4,5,6,7,8,9,10,11,12], dtype=float)\n",
    "y=np.array(data[1842][1:-1], dtype=float)\n",
    "print(y)\n",
    "xnew=np.linspace(np.min(x),np.max(x),100)\n",
    "ynew=[lagranz(x,y,i) for i in xnew]\n",
    "\n",
    "plt.scatter(xnew,ynew,s=7, c='red', marker=\"o\", alpha = 0.5)\n",
    "plt.grid(True)\n",
    "plt.show()"
   ]
  }
 ],
 "metadata": {
  "kernelspec": {
   "display_name": "Python 3",
   "language": "python",
   "name": "python3"
  },
  "language_info": {
   "codemirror_mode": {
    "name": "ipython",
    "version": 3
   },
   "file_extension": ".py",
   "mimetype": "text/x-python",
   "name": "python",
   "nbconvert_exporter": "python",
   "pygments_lexer": "ipython3",
   "version": "3.8.5"
  }
 },
 "nbformat": 4,
 "nbformat_minor": 5
}
